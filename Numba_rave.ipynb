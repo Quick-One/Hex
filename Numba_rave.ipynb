{
 "cells": [
  {
   "cell_type": "code",
   "execution_count": 13,
   "source": [
    "%%time\r\n",
    "# Compiling HexState\r\n",
    "from Numba_hex_class import HexState, _simulate\r\n",
    "_simulate(10)"
   ],
   "outputs": [
    {
     "output_type": "stream",
     "name": "stdout",
     "text": [
      "Wall time: 1.99 ms\n"
     ]
    }
   ],
   "metadata": {}
  },
  {
   "cell_type": "code",
   "execution_count": 14,
   "source": [
    "from settings import RAVE_constants\r\n",
    "from random import randint\r\n",
    "from math import sqrt, log\r\n",
    "from numba import njit, prange\r\n",
    "from numba import int64, deferred_type, optional, types, float64, typed\r\n",
    "from numba.experimental import jitclass\r\n",
    "import numpy as np\r\n",
    "\r\n"
   ],
   "outputs": [],
   "metadata": {}
  },
  {
   "cell_type": "code",
   "execution_count": 15,
   "source": [
    "%%time\r\n",
    "@njit(parallel=True)\r\n",
    "def run_sims():\r\n",
    "    for x0 in prange(100):\r\n",
    "        _simulate(100)\r\n",
    "        \r\n",
    "run_sims()"
   ],
   "outputs": [
    {
     "output_type": "stream",
     "name": "stdout",
     "text": [
      "Wall time: 3.8 s\n"
     ]
    }
   ],
   "metadata": {}
  },
  {
   "cell_type": "code",
   "execution_count": 16,
   "source": [
    "# Multi processed\r\n",
    "%time run_sims()"
   ],
   "outputs": [
    {
     "output_type": "stream",
     "name": "stdout",
     "text": [
      "Wall time: 464 ms\n"
     ]
    }
   ],
   "metadata": {}
  },
  {
   "cell_type": "code",
   "execution_count": 17,
   "source": [
    "# Not multi-processed\r\n",
    "%time _simulate(10000)"
   ],
   "outputs": [
    {
     "output_type": "stream",
     "name": "stdout",
     "text": [
      "Wall time: 920 ms\n"
     ]
    }
   ],
   "metadata": {}
  },
  {
   "cell_type": "code",
   "execution_count": 18,
   "source": [
    "\r\n",
    "Node_type = deferred_type()\r\n",
    "\r\n",
    "spec = (\r\n",
    "    \r\n",
    "    ('parent', optional(Node_type[:])),\r\n",
    "    ('move', int64),\r\n",
    "    ('children', optional(Node_type[:])),\r\n",
    "\r\n",
    "    ('N', int64),\r\n",
    "    ('Q', int64),\r\n",
    "    ('N_rave', int64),\r\n",
    "    ('Q_rave', int64),\r\n",
    "    \r\n",
    ")\r\n",
    "\r\n",
    "\r\n",
    "@jitclass(spec)\r\n",
    "class Node:\r\n",
    "    def __init__(self, move, parent):\r\n",
    "        self.parent = parent\r\n",
    "        self.move = move\r\n",
    "        self.children = np.zeros(0, dtype=Node_type)\r\n",
    "\r\n",
    "        self.N = 0\r\n",
    "        self.Q = 0\r\n",
    "        self.N_rave = 0\r\n",
    "        self.Q_rave = 0\r\n",
    "\r\n",
    "    def value(self):\r\n",
    "        if self.N == 0:\r\n",
    "            return float64(1000)\r\n",
    "        \r\n",
    "        rave_weight = max(0, 1 - (self.N/RAVE_constants.rave_const))\r\n",
    "        UCT_value = self.Q/self.N + RAVE_constants.explore * \\\r\n",
    "            sqrt(2 * log(self.parent.N/self.N))\r\n",
    "        \r\n",
    "        if self.N_rave != 0:\r\n",
    "            rave_value = self.Q_rave/self.N_rave\r\n",
    "        else: \r\n",
    "            rave_value = 0\r\n",
    "\r\n",
    "        value = (1 - rave_weight)*UCT_value + rave_weight*rave_value\r\n",
    "        return float64(value)\r\n",
    "\r\n",
    "    def get_N(self):\r\n",
    "        return self.N\r\n",
    "    \r\n",
    "    def get_move(self):\r\n",
    "        return self.move\r\n",
    "    \r\n",
    "    def get_children(self):\r\n",
    "        return self.children\r\n",
    "    \r\n",
    "    def get_parent(self):\r\n",
    "        return self.parent\r\n",
    "    \r\n",
    "    def get_move(self):\r\n",
    "        return self.move\r\n",
    "\r\n",
    "    def add_children(self, new_children):\r\n",
    "        self.children = np.append(self.children, new_children)\r\n",
    "        \r\n",
    "    def addon_rave(self, q,n):\r\n",
    "        self.Q_rave += q\r\n",
    "        self.N_rave += n\r\n",
    "        \r\n",
    "    def addon_mcts(self, q, n):\r\n",
    "        self.Q += q\r\n",
    "        self.N += n\r\n",
    "        \r\n"
   ],
   "outputs": [],
   "metadata": {}
  },
  {
   "cell_type": "code",
   "execution_count": 19,
   "source": [
    "\r\n",
    "@njit\r\n",
    "def expand(parent: Node, state):\r\n",
    "    if state.winner() != 0:\r\n",
    "        return 0\r\n",
    "\r\n",
    "    new_children = np.zeros(0, dtype=Node_type)\r\n",
    "    for move in state.possible_moves():\r\n",
    "        new_children.append(Node(move, np.array([parent])))\r\n",
    "\r\n",
    "    parent.add_children(new_children)\r\n",
    "    return 1\r\n"
   ],
   "outputs": [],
   "metadata": {}
  },
  {
   "cell_type": "code",
   "execution_count": 20,
   "source": [
    "\r\n",
    "@njit\r\n",
    "def fetch_leaf_node(root_node, root_state):\r\n",
    "    node = root_node\r\n",
    "    state = root_state.copy()\r\n",
    "\r\n",
    "    while node.get_children().size != 0:\r\n",
    "        benchmark = float64(-1000)\r\n",
    "        for child in node.children:\r\n",
    "            value_of_child = child.value()\r\n",
    "            if value_of_child > benchmark:\r\n",
    "                selected_node = child\r\n",
    "                benchmark = value_of_child\r\n",
    "        node = selected_node\r\n",
    "        move = node.get_move()\r\n",
    "        state.step(move)\r\n",
    "\r\n",
    "        if node.get_N() == 0:\r\n",
    "            return node, state\r\n",
    "\r\n",
    "    if expand(node, state) == 1:\r\n",
    "        children = node.get_children()\r\n",
    "        child_index = randint(0, children.size-1)\r\n",
    "        node = children[child_index]\r\n",
    "        state.step(node.get_move())\r\n",
    "\r\n",
    "    return node, state\r\n",
    "\r\n"
   ],
   "outputs": [],
   "metadata": {}
  },
  {
   "cell_type": "code",
   "execution_count": 21,
   "source": [
    "\r\n",
    "@njit\r\n",
    "def rollout(state):\r\n",
    "    moves = state.possible_moves()\r\n",
    "    while state.winner() != 0:\r\n",
    "        move_index = randint(0, moves.size-1)\r\n",
    "        move = moves[move_index]\r\n",
    "        state.step(move)\r\n",
    "        moves = np.delete(moves, move_index)\r\n",
    "\r\n",
    "    blk_rave_pieces = np.zeros(0, dtype=np.int64)\r\n",
    "    wht_rave_pieces = np.zeros(0, dtype=np.int64)\r\n",
    "\r\n",
    "    board = state.get_board()\r\n",
    "    blk_rave_pieces.append(np.where(board == 1)[0])\r\n",
    "    wht_rave_pieces.append(np.where(board == -1)[0])\r\n",
    "\r\n",
    "    return state.winner(), blk_rave_pieces, wht_rave_pieces\r\n"
   ],
   "outputs": [],
   "metadata": {}
  },
  {
   "cell_type": "code",
   "execution_count": 22,
   "source": [
    "@njit\r\n",
    "def backup(outcome, turn, node, blk_rave_pieces, wht_rave_pieces ):\r\n",
    "    \r\n",
    "    if outcome == turn:\r\n",
    "        reward = -1\r\n",
    "    else:\r\n",
    "        reward = 1\r\n",
    "        \r\n",
    "    while node.get_parent().size != 0:\r\n",
    "        if turn == 1:\r\n",
    "            for child in node.get_children():\r\n",
    "                child_move = child.get_move()\r\n",
    "                if child_move in blk_rave_pieces:\r\n",
    "                    child.addon_rave(-reward, 1)\r\n",
    "        else:\r\n",
    "            for child in node.get_children():\r\n",
    "                child_move = child.get_move()\r\n",
    "                if child_move in wht_rave_pieces:\r\n",
    "                    child.addon_rave(-reward, 1)\r\n",
    "                    \r\n",
    "        node.addon_mcts(reward, 1)\r\n",
    "        turn *= -1\r\n",
    "        reward *= -1\r\n",
    "        node = node.get_parent()[0]"
   ],
   "outputs": [],
   "metadata": {}
  },
  {
   "cell_type": "code",
   "execution_count": 23,
   "source": [
    "\r\n",
    "@njit\r\n",
    "def fetch_best_move(state):\r\n",
    "    root_state = state.copy()\r\n",
    "    root_node = Node(100, np.zeros(0, dtype= Node_type))\r\n",
    "    \r\n",
    "    num_simulation = 0\r\n",
    "    while num_simulation >10:\r\n",
    "        node, state = fetch_leaf_node(root_node,root_state)\r\n",
    "        turn = state.get_to_play()\r\n",
    "        \r\n",
    "        winner, blk_rave_pieces, wht_rave_pieces = rollout(state)\r\n",
    "        backup(winner, turn, node, blk_rave_pieces, wht_rave_pieces)\r\n",
    "        num_simulation +=1"
   ],
   "outputs": [],
   "metadata": {}
  },
  {
   "cell_type": "code",
   "execution_count": 24,
   "source": [
    "\r\n",
    "parent_type = (types.int64, types.int64)\r\n",
    "rank_type = (types.int64, types.int64)\r\n",
    "groups_type = (types.int64, types.int64[:])\r\n",
    "size = 6\r\n",
    "\r\n",
    "brd = np.zeros(size**2, dtype=np.int64)\r\n",
    "to_play = 1\r\n",
    "EDGE_START = 1000\r\n",
    "EDGE_FINISH = -1000\r\n",
    "blk_parent = typed.Dict.empty(*parent_type)\r\n",
    "blk_rank = typed.Dict.empty(*rank_type)\r\n",
    "blk_groups = typed.Dict.empty(*groups_type)\r\n",
    "wht_parent = typed.Dict.empty(*parent_type)\r\n",
    "wht_rank = typed.Dict.empty(*rank_type)\r\n",
    "wht_groups = typed.Dict.empty(*groups_type)\r\n",
    "\r\n",
    "\r\n",
    "board = HexState(size, brd, to_play, EDGE_START, EDGE_FINISH, blk_parent, blk_rank, blk_groups, wht_parent, wht_rank, wht_groups)"
   ],
   "outputs": [],
   "metadata": {}
  },
  {
   "cell_type": "code",
   "execution_count": 25,
   "source": [
    "fetch_best_move(board)"
   ],
   "outputs": [
    {
     "output_type": "error",
     "ename": "TypingError",
     "evalue": "Failed in nopython mode pipeline (step: nopython frontend)\n\u001b[1mUntyped global name 'backup':\u001b[0m \u001b[1m\u001b[1mCannot determine Numba type of <class 'function'>\u001b[0m\n\u001b[1m\nFile \"..\\..\\..\\..\\HARSHK~1\\AppData\\Local\\Temp\\ipykernel_8676\\2628448253.py\", line 12:\u001b[0m\n\u001b[1m<source missing, REPL/exec in use?>\u001b[0m\n\u001b[0m",
     "traceback": [
      "\u001b[1;31m---------------------------------------------------------------------------\u001b[0m",
      "\u001b[1;31mTypingError\u001b[0m                               Traceback (most recent call last)",
      "\u001b[1;32mC:\\Users\\HARSHK~1\\AppData\\Local\\Temp/ipykernel_8676/2803521554.py\u001b[0m in \u001b[0;36m<module>\u001b[1;34m\u001b[0m\n\u001b[1;32m----> 1\u001b[1;33m \u001b[0mfetch_best_move\u001b[0m\u001b[1;33m(\u001b[0m\u001b[0mboard\u001b[0m\u001b[1;33m)\u001b[0m\u001b[1;33m\u001b[0m\u001b[1;33m\u001b[0m\u001b[0m\n\u001b[0m",
      "\u001b[1;32mc:\\Users\\Harsh Kumar Sethi\\Documents\\GitHub\\Hex\\venv\\lib\\site-packages\\numba\\core\\dispatcher.py\u001b[0m in \u001b[0;36m_compile_for_args\u001b[1;34m(self, *args, **kws)\u001b[0m\n\u001b[0;32m    480\u001b[0m                 \u001b[0me\u001b[0m\u001b[1;33m.\u001b[0m\u001b[0mpatch_message\u001b[0m\u001b[1;33m(\u001b[0m\u001b[0mmsg\u001b[0m\u001b[1;33m)\u001b[0m\u001b[1;33m\u001b[0m\u001b[1;33m\u001b[0m\u001b[0m\n\u001b[0;32m    481\u001b[0m \u001b[1;33m\u001b[0m\u001b[0m\n\u001b[1;32m--> 482\u001b[1;33m             \u001b[0merror_rewrite\u001b[0m\u001b[1;33m(\u001b[0m\u001b[0me\u001b[0m\u001b[1;33m,\u001b[0m \u001b[1;34m'typing'\u001b[0m\u001b[1;33m)\u001b[0m\u001b[1;33m\u001b[0m\u001b[1;33m\u001b[0m\u001b[0m\n\u001b[0m\u001b[0;32m    483\u001b[0m         \u001b[1;32mexcept\u001b[0m \u001b[0merrors\u001b[0m\u001b[1;33m.\u001b[0m\u001b[0mUnsupportedError\u001b[0m \u001b[1;32mas\u001b[0m \u001b[0me\u001b[0m\u001b[1;33m:\u001b[0m\u001b[1;33m\u001b[0m\u001b[1;33m\u001b[0m\u001b[0m\n\u001b[0;32m    484\u001b[0m             \u001b[1;31m# Something unsupported is present in the user code, add help info\u001b[0m\u001b[1;33m\u001b[0m\u001b[1;33m\u001b[0m\u001b[1;33m\u001b[0m\u001b[0m\n",
      "\u001b[1;32mc:\\Users\\Harsh Kumar Sethi\\Documents\\GitHub\\Hex\\venv\\lib\\site-packages\\numba\\core\\dispatcher.py\u001b[0m in \u001b[0;36merror_rewrite\u001b[1;34m(e, issue_type)\u001b[0m\n\u001b[0;32m    421\u001b[0m                 \u001b[1;32mraise\u001b[0m \u001b[0me\u001b[0m\u001b[1;33m\u001b[0m\u001b[1;33m\u001b[0m\u001b[0m\n\u001b[0;32m    422\u001b[0m             \u001b[1;32melse\u001b[0m\u001b[1;33m:\u001b[0m\u001b[1;33m\u001b[0m\u001b[1;33m\u001b[0m\u001b[0m\n\u001b[1;32m--> 423\u001b[1;33m                 \u001b[1;32mraise\u001b[0m \u001b[0me\u001b[0m\u001b[1;33m.\u001b[0m\u001b[0mwith_traceback\u001b[0m\u001b[1;33m(\u001b[0m\u001b[1;32mNone\u001b[0m\u001b[1;33m)\u001b[0m\u001b[1;33m\u001b[0m\u001b[1;33m\u001b[0m\u001b[0m\n\u001b[0m\u001b[0;32m    424\u001b[0m \u001b[1;33m\u001b[0m\u001b[0m\n\u001b[0;32m    425\u001b[0m         \u001b[0margtypes\u001b[0m \u001b[1;33m=\u001b[0m \u001b[1;33m[\u001b[0m\u001b[1;33m]\u001b[0m\u001b[1;33m\u001b[0m\u001b[1;33m\u001b[0m\u001b[0m\n",
      "\u001b[1;31mTypingError\u001b[0m: Failed in nopython mode pipeline (step: nopython frontend)\n\u001b[1mUntyped global name 'backup':\u001b[0m \u001b[1m\u001b[1mCannot determine Numba type of <class 'function'>\u001b[0m\n\u001b[1m\nFile \"..\\..\\..\\..\\HARSHK~1\\AppData\\Local\\Temp\\ipykernel_8676\\2628448253.py\", line 12:\u001b[0m\n\u001b[1m<source missing, REPL/exec in use?>\u001b[0m\n\u001b[0m"
     ]
    }
   ],
   "metadata": {}
  }
 ],
 "metadata": {
  "kernelspec": {
   "name": "python3",
   "display_name": "Python 3.7.4 64-bit ('venv': venv)"
  },
  "language_info": {
   "codemirror_mode": {
    "name": "ipython",
    "version": 3
   },
   "file_extension": ".py",
   "mimetype": "text/x-python",
   "name": "python",
   "nbconvert_exporter": "python",
   "pygments_lexer": "ipython3",
   "version": "3.7.4"
  },
  "interpreter": {
   "hash": "4c9023dc152695567e9bd5f124bc36148855ee458e88d27b25e9076bbda1a7ea"
  }
 },
 "nbformat": 4,
 "nbformat_minor": 2
}