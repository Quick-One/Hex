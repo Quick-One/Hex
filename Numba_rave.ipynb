{
 "cells": [
  {
   "cell_type": "code",
   "execution_count": 7,
   "source": [
    "%%time\r\n",
    "# Compiling HexState\r\n",
    "from Numba_hex_class import HexState, _simulate\r\n",
    "_simulate(10)"
   ],
   "outputs": [
    {
     "output_type": "stream",
     "name": "stdout",
     "text": [
      "Wall time: 1.99 ms\n"
     ]
    }
   ],
   "metadata": {}
  },
  {
   "cell_type": "code",
   "execution_count": 8,
   "source": [
    "\r\n",
    "from copy import deepcopy\r\n",
    "from numba import njit, prange\r\n",
    "from numba import int64, deferred_type, optional, types, typed\r\n",
    "from numba.experimental import jitclass\r\n"
   ],
   "outputs": [],
   "metadata": {}
  },
  {
   "cell_type": "code",
   "execution_count": 9,
   "source": [
    "%%time\r\n",
    "@njit(parallel=True)\r\n",
    "def run_sims():\r\n",
    "    for x0 in prange(10):\r\n",
    "        _simulate(1000)\r\n",
    "        \r\n",
    "run_sims()"
   ],
   "outputs": [
    {
     "output_type": "stream",
     "name": "stdout",
     "text": [
      "Wall time: 4.99 s\n"
     ]
    }
   ],
   "metadata": {}
  },
  {
   "cell_type": "code",
   "execution_count": 10,
   "source": [
    "# Multi processed\r\n",
    "%time run_sims()"
   ],
   "outputs": [
    {
     "output_type": "stream",
     "name": "stdout",
     "text": [
      "Wall time: 663 ms\n"
     ]
    }
   ],
   "metadata": {}
  },
  {
   "cell_type": "code",
   "execution_count": 11,
   "source": [
    "# Not multi-processed\r\n",
    "%time _simulate(10000)"
   ],
   "outputs": [
    {
     "output_type": "stream",
     "name": "stdout",
     "text": [
      "Wall time: 1.09 s\n"
     ]
    }
   ],
   "metadata": {}
  },
  {
   "cell_type": "code",
   "execution_count": 12,
   "source": [
    "children_type = (int64, optional(deferred_type()))\r\n",
    "\r\n",
    "spec = [\r\n",
    "    ('parent', optional(deferred_type())),\r\n",
    "    ('move', int64),\r\n",
    "\r\n",
    "    ('children', types.DictType(*children_type)),\r\n",
    "\r\n",
    "    ('N', int64),\r\n",
    "    ('Q', int64),\r\n",
    "\r\n",
    "    ('N_rave', int64),\r\n",
    "    ('Q_rave', int64),\r\n",
    "\r\n",
    "]\r\n",
    "\r\n",
    "\r\n",
    "@jitclass(spec)\r\n",
    "class Node:\r\n",
    "    def __init__(self, move, parent):\r\n",
    "        self.parent = parent\r\n",
    "        self.move = move\r\n",
    "        #move : Node()\r\n",
    "        self.children = typed.Dict.empty(*children_type)\r\n",
    "\r\n",
    "        self.N = 0\r\n",
    "        self.Q = 0\r\n",
    "\r\n",
    "        self.N_rave = 0\r\n",
    "        self.Q_rave = 0\r\n"
   ],
   "outputs": [
    {
     "output_type": "error",
     "ename": "TypingError",
     "evalue": "\u001b[1mDict.value_type cannot be of type OptionalType(DeferredType#2070678668616) i.e. the type 'DeferredType#2070678668616 or None'\u001b[0m",
     "traceback": [
      "\u001b[1;31m---------------------------------------------------------------------------\u001b[0m",
      "\u001b[1;31mTypingError\u001b[0m                               Traceback (most recent call last)",
      "\u001b[1;32mC:\\Users\\HARSHK~1\\AppData\\Local\\Temp/ipykernel_12476/850836536.py\u001b[0m in \u001b[0;36m<module>\u001b[1;34m\u001b[0m\n\u001b[0;32m      5\u001b[0m     \u001b[1;33m(\u001b[0m\u001b[1;34m'move'\u001b[0m\u001b[1;33m,\u001b[0m \u001b[0mint64\u001b[0m\u001b[1;33m)\u001b[0m\u001b[1;33m,\u001b[0m\u001b[1;33m\u001b[0m\u001b[1;33m\u001b[0m\u001b[0m\n\u001b[0;32m      6\u001b[0m \u001b[1;33m\u001b[0m\u001b[0m\n\u001b[1;32m----> 7\u001b[1;33m     \u001b[1;33m(\u001b[0m\u001b[1;34m'children'\u001b[0m\u001b[1;33m,\u001b[0m \u001b[0mtypes\u001b[0m\u001b[1;33m.\u001b[0m\u001b[0mDictType\u001b[0m\u001b[1;33m(\u001b[0m\u001b[1;33m*\u001b[0m\u001b[0mchildren_type\u001b[0m\u001b[1;33m)\u001b[0m\u001b[1;33m)\u001b[0m\u001b[1;33m,\u001b[0m\u001b[1;33m\u001b[0m\u001b[1;33m\u001b[0m\u001b[0m\n\u001b[0m\u001b[0;32m      8\u001b[0m \u001b[1;33m\u001b[0m\u001b[0m\n\u001b[0;32m      9\u001b[0m     \u001b[1;33m(\u001b[0m\u001b[1;34m'N'\u001b[0m\u001b[1;33m,\u001b[0m \u001b[0mint64\u001b[0m\u001b[1;33m)\u001b[0m\u001b[1;33m,\u001b[0m\u001b[1;33m\u001b[0m\u001b[1;33m\u001b[0m\u001b[0m\n",
      "\u001b[1;32mc:\\Users\\Harsh Kumar Sethi\\Documents\\GitHub\\Hex\\venv\\lib\\site-packages\\numba\\core\\types\\abstract.py\u001b[0m in \u001b[0;36m__call__\u001b[1;34m(cls, *args, **kwargs)\u001b[0m\n\u001b[0;32m     64\u001b[0m         \u001b[0mthe\u001b[0m \u001b[0mnew\u001b[0m \u001b[0minstance\u001b[0m \u001b[1;32mis\u001b[0m \u001b[0mreturned\u001b[0m\u001b[1;33m.\u001b[0m\u001b[1;33m\u001b[0m\u001b[1;33m\u001b[0m\u001b[0m\n\u001b[0;32m     65\u001b[0m         \"\"\"\n\u001b[1;32m---> 66\u001b[1;33m         \u001b[0minst\u001b[0m \u001b[1;33m=\u001b[0m \u001b[0mtype\u001b[0m\u001b[1;33m.\u001b[0m\u001b[0m__call__\u001b[0m\u001b[1;33m(\u001b[0m\u001b[0mcls\u001b[0m\u001b[1;33m,\u001b[0m \u001b[1;33m*\u001b[0m\u001b[0margs\u001b[0m\u001b[1;33m,\u001b[0m \u001b[1;33m**\u001b[0m\u001b[0mkwargs\u001b[0m\u001b[1;33m)\u001b[0m\u001b[1;33m\u001b[0m\u001b[1;33m\u001b[0m\u001b[0m\n\u001b[0m\u001b[0;32m     67\u001b[0m         \u001b[1;32mreturn\u001b[0m \u001b[0mcls\u001b[0m\u001b[1;33m.\u001b[0m\u001b[0m_intern\u001b[0m\u001b[1;33m(\u001b[0m\u001b[0minst\u001b[0m\u001b[1;33m)\u001b[0m\u001b[1;33m\u001b[0m\u001b[1;33m\u001b[0m\u001b[0m\n\u001b[0;32m     68\u001b[0m \u001b[1;33m\u001b[0m\u001b[0m\n",
      "\u001b[1;32mc:\\Users\\Harsh Kumar Sethi\\Documents\\GitHub\\Hex\\venv\\lib\\site-packages\\numba\\core\\types\\containers.py\u001b[0m in \u001b[0;36m__init__\u001b[1;34m(self, keyty, valty, initial_value)\u001b[0m\n\u001b[0;32m    701\u001b[0m         \u001b[1;32mif\u001b[0m \u001b[0misinstance\u001b[0m\u001b[1;33m(\u001b[0m\u001b[0mvalty\u001b[0m\u001b[1;33m,\u001b[0m \u001b[1;33m(\u001b[0m\u001b[0mOptional\u001b[0m\u001b[1;33m,\u001b[0m \u001b[0mNoneType\u001b[0m\u001b[1;33m)\u001b[0m\u001b[1;33m)\u001b[0m\u001b[1;33m:\u001b[0m\u001b[1;33m\u001b[0m\u001b[1;33m\u001b[0m\u001b[0m\n\u001b[0;32m    702\u001b[0m             \u001b[0mfmt\u001b[0m \u001b[1;33m=\u001b[0m \u001b[1;34m\"Dict.value_type cannot be of type {}\"\u001b[0m\u001b[1;33m\u001b[0m\u001b[1;33m\u001b[0m\u001b[0m\n\u001b[1;32m--> 703\u001b[1;33m             \u001b[1;32mraise\u001b[0m \u001b[0mTypingError\u001b[0m\u001b[1;33m(\u001b[0m\u001b[0mfmt\u001b[0m\u001b[1;33m.\u001b[0m\u001b[0mformat\u001b[0m\u001b[1;33m(\u001b[0m\u001b[0mvalty\u001b[0m\u001b[1;33m)\u001b[0m\u001b[1;33m)\u001b[0m\u001b[1;33m\u001b[0m\u001b[1;33m\u001b[0m\u001b[0m\n\u001b[0m\u001b[0;32m    704\u001b[0m         \u001b[0m_sentry_forbidden_types\u001b[0m\u001b[1;33m(\u001b[0m\u001b[0mkeyty\u001b[0m\u001b[1;33m,\u001b[0m \u001b[0mvalty\u001b[0m\u001b[1;33m)\u001b[0m\u001b[1;33m\u001b[0m\u001b[1;33m\u001b[0m\u001b[0m\n\u001b[0;32m    705\u001b[0m         \u001b[0mself\u001b[0m\u001b[1;33m.\u001b[0m\u001b[0mkey_type\u001b[0m \u001b[1;33m=\u001b[0m \u001b[0mkeyty\u001b[0m\u001b[1;33m\u001b[0m\u001b[1;33m\u001b[0m\u001b[0m\n",
      "\u001b[1;31mTypingError\u001b[0m: \u001b[1mDict.value_type cannot be of type OptionalType(DeferredType#2070678668616) i.e. the type 'DeferredType#2070678668616 or None'\u001b[0m"
     ]
    }
   ],
   "metadata": {}
  }
 ],
 "metadata": {
  "kernelspec": {
   "name": "python3",
   "display_name": "Python 3.7.4 64-bit ('venv': venv)"
  },
  "language_info": {
   "codemirror_mode": {
    "name": "ipython",
    "version": 3
   },
   "file_extension": ".py",
   "mimetype": "text/x-python",
   "name": "python",
   "nbconvert_exporter": "python",
   "pygments_lexer": "ipython3",
   "version": "3.7.4"
  },
  "interpreter": {
   "hash": "4c9023dc152695567e9bd5f124bc36148855ee458e88d27b25e9076bbda1a7ea"
  }
 },
 "nbformat": 4,
 "nbformat_minor": 2
}