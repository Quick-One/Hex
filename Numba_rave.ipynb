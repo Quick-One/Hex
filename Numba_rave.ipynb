{
 "cells": [
  {
   "cell_type": "code",
   "execution_count": 1,
   "source": [
    "%%time\r\n",
    "# Compiling HexState\r\n",
    "from Numba_hex_class import HexState, _simulate, create_empty_board\r\n",
    "_simulate(1000)"
   ],
   "outputs": [
    {
     "output_type": "stream",
     "name": "stdout",
     "text": [
      "Wall time: 11.7 s\n"
     ]
    }
   ],
   "metadata": {}
  },
  {
   "cell_type": "code",
   "execution_count": 2,
   "source": [
    "from random import randint\r\n",
    "from math import sqrt, log\r\n",
    "from numba import njit, prange\r\n",
    "from numba import int64, deferred_type, optional, types, float64, typed\r\n",
    "from numba.experimental import jitclass\r\n",
    "import numpy as np\r\n",
    "from rave_class import Node"
   ],
   "outputs": [],
   "metadata": {}
  },
  {
   "cell_type": "code",
   "execution_count": 3,
   "source": [
    "# %%time\r\n",
    "# @njit(parallel=True)\r\n",
    "# def run_sims():\r\n",
    "#     for x0 in prange(100):\r\n",
    "#         _simulate(100)\r\n",
    "        \r\n",
    "# run_sims()\r\n",
    "# # Multi processed\r\n",
    "# %time run_sims()\r\n",
    "\r\n",
    "# # Not multi-processed\r\n",
    "# %time _simulate(10000)"
   ],
   "outputs": [],
   "metadata": {}
  },
  {
   "cell_type": "code",
   "execution_count": 4,
   "source": [
    "#NODE CLASS\r\n",
    "Node_type = deferred_type()\r\n",
    "\r\n",
    "spec = (\r\n",
    "\r\n",
    "    ('parent', optional(Node_type)),\r\n",
    "    ('move', int64),\r\n",
    "    ('children', int64[:]),\r\n",
    "\r\n",
    "    ('N', int64),\r\n",
    "    ('Q', int64),\r\n",
    "    ('N_rave', int64),\r\n",
    "    ('Q_rave', int64),\r\n",
    "\r\n",
    ")\r\n",
    "\r\n",
    "\r\n",
    "@jitclass(spec)\r\n",
    "class Node:\r\n",
    "    def __init__(self, parent, move):\r\n",
    "        self.parent = parent\r\n",
    "        self.move = move\r\n",
    "        self.children = np.zeros(0, dtype=np.int64)\r\n",
    "\r\n",
    "        self.N = 0\r\n",
    "        self.Q = 0\r\n",
    "        self.N_rave = 0\r\n",
    "        self.Q_rave = 0\r\n",
    "\r\n",
    "    def value(self):\r\n",
    "        if self.N == 0: \r\n",
    "            return float64(100000)\r\n",
    "\r\n",
    "        rave_weight = max(0, 1 - (self.N/1000))\r\n",
    "        UCT_value = (self.Q/self.N) + 0.5 * sqrt(2 * log(self.parent.N/self.N))\r\n",
    "        if self.N_rave != 0:\r\n",
    "            rave_value = self.Q_rave/self.N_rave\r\n",
    "        else:\r\n",
    "            rave_value = 0\r\n",
    "        value = (1 - rave_weight)*UCT_value + rave_weight*rave_value\r\n",
    "\r\n",
    "        return float64(value)\r\n",
    "\r\n",
    "    def set_children(self, new_children):\r\n",
    "        self.children = np.append(self.children, new_children)\r\n",
    "\r\n",
    "    \r\n",
    "    def get_stats(self):\r\n",
    "        print(f'N:{self.N}, Q:{self.Q}, Q_r:{self.Q_rave}, N_r:{self.N_rave}, M:{self.move}')\r\n",
    "        print(self.value())\r\n",
    "\r\n",
    "\r\n",
    "Node_type.define(Node.class_type.instance_type)\r\n"
   ],
   "outputs": [],
   "metadata": {}
  },
  {
   "cell_type": "code",
   "execution_count": 5,
   "source": [
    "#EXPAND\r\n",
    "@njit\r\n",
    "def expand(parent: Node, state, mem, mem_address):\r\n",
    "    \r\n",
    "    if state.winner() != 0:\r\n",
    "        return (0, mem_address)\r\n",
    "\r\n",
    "    possible_moves = state.possible_moves()\r\n",
    "    children = np.zeros_like(possible_moves)\r\n",
    "        \r\n",
    "    for index, move in enumerate(possible_moves):\r\n",
    "        child_node = Node(parent, move)\r\n",
    "        mem_address += 1\r\n",
    "        mem[mem_address] = child_node\r\n",
    "        children[index] = mem_address\r\n",
    "\r\n",
    "    parent.set_children(children)\r\n",
    "    return (1, mem_address)\r\n"
   ],
   "outputs": [],
   "metadata": {}
  },
  {
   "cell_type": "code",
   "execution_count": 6,
   "source": [
    "#lead node\r\n",
    "@njit\r\n",
    "def leaf_node(root_node : Node, root_state, mem, mem_addrs):\r\n",
    "\r\n",
    "    node = root_node\r\n",
    "    state = root_state\r\n",
    "    \r\n",
    "    while node.children.size != 0:\r\n",
    "        \r\n",
    "        array = np.zeros(0, np.int64)\r\n",
    "        benchmark = float64(-1000000)\r\n",
    "        \r\n",
    "        for child_mem_addrs in node.children:\r\n",
    "            child = mem[child_mem_addrs]\r\n",
    "            value_of_child = child.value()\r\n",
    "            \r\n",
    "            if value_of_child > benchmark:\r\n",
    "                benchmark = value_of_child\r\n",
    "                array = np.zeros(0, np.int64)\r\n",
    "                array = np.append(array, child_mem_addrs)\r\n",
    "                \r\n",
    "            elif value_of_child == benchmark:\r\n",
    "                array = np.append(array, child_mem_addrs)\r\n",
    "        \r\n",
    "        selected_index_from_array = randint(0, array.size-1)\r\n",
    "        node = mem[array[selected_index_from_array]]\r\n",
    "        move = node.move\r\n",
    "    \r\n",
    "        state.step(move)\r\n",
    "\r\n",
    "        if node.N == 0:\r\n",
    "            return (node, state, mem_addrs)\r\n",
    "\r\n",
    "    bool_expand, mem_addrs = expand(node, state,mem, mem_addrs)\r\n",
    "    if bool_expand:\r\n",
    "        children_addrs = node.children\r\n",
    "        child_index = randint(0, children_addrs.size-1)\r\n",
    "        child_addrs = children_addrs[child_index]\r\n",
    "        node = mem[child_addrs]\r\n",
    "        state.step(node.move)\r\n",
    "    \r\n",
    "    return (node, state, mem_addrs)\r\n"
   ],
   "outputs": [],
   "metadata": {}
  },
  {
   "cell_type": "code",
   "execution_count": 7,
   "source": [
    "#rollout\r\n",
    "@njit\r\n",
    "def rollout(state):\r\n",
    "\r\n",
    "    moves = state.possible_moves()\r\n",
    "\r\n",
    "    while state.winner() == 0:\r\n",
    "        move_index = randint(0, moves.size-1)\r\n",
    "        move = moves[move_index]\r\n",
    "        state.step(move)\r\n",
    "        moves = np.delete(moves, move_index)\r\n",
    "\r\n",
    "    blk_rave_pieces = np.zeros(0, dtype=np.int64)\r\n",
    "    wht_rave_pieces = np.zeros(0, dtype=np.int64)\r\n",
    "\r\n",
    "    board = state.get_board()\r\n",
    "    blk_rave_pieces = np.append(blk_rave_pieces,np.where(board == 1)[0] )\r\n",
    "    wht_rave_pieces = np.append(wht_rave_pieces,np.where(board == -1)[0] )\r\n",
    "    \r\n",
    "    return (state.winner(), blk_rave_pieces, wht_rave_pieces)\r\n"
   ],
   "outputs": [],
   "metadata": {}
  },
  {
   "cell_type": "code",
   "execution_count": 8,
   "source": [
    "#BACKUP\r\n",
    "@njit\r\n",
    "def backup(outcome, turn, node, blk_rave_pieces, wht_rave_pieces, mem ):\r\n",
    "    \r\n",
    "    if outcome == turn:\r\n",
    "        reward = -1\r\n",
    "    else:\r\n",
    "        reward = 1\r\n",
    "        \r\n",
    "    while node is not None:\r\n",
    "        if turn == -1:\r\n",
    "            for child_addrs in node.children:\r\n",
    "                child  = mem[child_addrs]\r\n",
    "\r\n",
    "                if child.move in wht_rave_pieces:\r\n",
    "                    child.N_rave += 1\r\n",
    "                    child.Q_rave += -reward\r\n",
    "        else:\r\n",
    "            for child_addrs in node.children:\r\n",
    "                child  = mem[child_addrs]\r\n",
    "\r\n",
    "                if child.move in blk_rave_pieces:\r\n",
    "                    child.N_rave += 1\r\n",
    "                    child.Q_rave += -reward\r\n",
    "                    \r\n",
    "        node.N += 1\r\n",
    "        node.Q += reward\r\n",
    "\r\n",
    "        turn = -turn\r\n",
    "        reward  = -reward\r\n",
    "        node = node.parent"
   ],
   "outputs": [],
   "metadata": {}
  },
  {
   "cell_type": "code",
   "execution_count": 9,
   "source": [
    "#fetch_best_move\r\n",
    "@njit\r\n",
    "def fetch_best_move(state, limit):\r\n",
    "    \r\n",
    "    memory = {}\r\n",
    "    memory_address = 0\r\n",
    "    \r\n",
    "    root_state = state.copy()\r\n",
    "    root_node = Node(None, 20)\r\n",
    "    memory[memory_address] = root_node\r\n",
    "    \r\n",
    "    num_simulation = 0\r\n",
    "    blk = 0\r\n",
    "    wht = 0\r\n",
    "    while num_simulation < limit:\r\n",
    "        \r\n",
    "        state_copy = root_state.copy()\r\n",
    "        \r\n",
    "        node, new_state, memory_address = leaf_node(root_node,state_copy,memory, memory_address)\r\n",
    "        turn = new_state.to_play\r\n",
    "        winner, blk_rave_pieces, wht_rave_pieces = rollout(new_state)\r\n",
    "        \r\n",
    "        if new_state.winner() == 1:\r\n",
    "            blk += 1\r\n",
    "        else:\r\n",
    "            wht += 1\r\n",
    "        \r\n",
    "        backup(winner, turn, node, blk_rave_pieces, wht_rave_pieces, memory)\r\n",
    "\r\n",
    "        num_simulation +=1\r\n",
    "    print(blk,wht)\r\n",
    "   "
   ],
   "outputs": [],
   "metadata": {}
  },
  {
   "cell_type": "code",
   "execution_count": 10,
   "source": [
    "\r\n",
    "board = create_empty_board(6)"
   ],
   "outputs": [],
   "metadata": {}
  },
  {
   "cell_type": "code",
   "execution_count": 11,
   "source": [
    "fetch_best_move(board, 50000)"
   ],
   "outputs": [
    {
     "output_type": "stream",
     "name": "stdout",
     "text": [
      "36091 13909\n"
     ]
    }
   ],
   "metadata": {}
  },
  {
   "cell_type": "code",
   "execution_count": 12,
   "source": [
    "%time a = fetch_best_move(board, 50000)"
   ],
   "outputs": [
    {
     "output_type": "stream",
     "name": "stdout",
     "text": [
      "38357 11643\n",
      "Wall time: 6.64 s\n"
     ]
    }
   ],
   "metadata": {}
  }
 ],
 "metadata": {
  "kernelspec": {
   "name": "python3",
   "display_name": "Python 3.7.4 64-bit ('venv': venv)"
  },
  "language_info": {
   "codemirror_mode": {
    "name": "ipython",
    "version": 3
   },
   "file_extension": ".py",
   "mimetype": "text/x-python",
   "name": "python",
   "nbconvert_exporter": "python",
   "pygments_lexer": "ipython3",
   "version": "3.7.4"
  },
  "interpreter": {
   "hash": "4c9023dc152695567e9bd5f124bc36148855ee458e88d27b25e9076bbda1a7ea"
  }
 },
 "nbformat": 4,
 "nbformat_minor": 2
}