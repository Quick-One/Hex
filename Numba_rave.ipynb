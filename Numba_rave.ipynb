{
 "cells": [
  {
   "cell_type": "code",
   "execution_count": 1,
   "source": [
    "%%time\r\n",
    "# Compiling HexState\r\n",
    "from Numba_hex_class import HexState, _simulate\r\n",
    "_simulate(10)"
   ],
   "outputs": [
    {
     "output_type": "stream",
     "name": "stdout",
     "text": [
      "Wall time: 10.3 s\n"
     ]
    }
   ],
   "metadata": {}
  },
  {
   "cell_type": "code",
   "execution_count": 3,
   "source": [
    "from random import randint\r\n",
    "from math import sqrt, log\r\n",
    "from numba import njit, prange\r\n",
    "from numba import int64, deferred_type, optional, types, float64, typed\r\n",
    "from numba.experimental import jitclass\r\n",
    "import numpy as np\r\n"
   ],
   "outputs": [],
   "metadata": {}
  },
  {
   "cell_type": "code",
   "execution_count": 4,
   "source": [
    "%%time\r\n",
    "@njit(parallel=True)\r\n",
    "def run_sims():\r\n",
    "    for x0 in prange(100):\r\n",
    "        _simulate(100)\r\n",
    "        \r\n",
    "run_sims()\r\n",
    "# Multi processed\r\n",
    "%time run_sims()\r\n",
    "\r\n",
    "# Not multi-processed\r\n",
    "%time _simulate(10000)"
   ],
   "outputs": [
    {
     "output_type": "stream",
     "name": "stdout",
     "text": [
      "Wall time: 474 ms\n",
      "Wall time: 1.02 s\n",
      "Wall time: 7.13 s\n"
     ]
    }
   ],
   "metadata": {}
  },
  {
   "cell_type": "code",
   "execution_count": 44,
   "source": [
    "#NODE CLASS\r\n",
    "Node_type = deferred_type()\r\n",
    "\r\n",
    "spec = (\r\n",
    "\r\n",
    "    ('parent', optional(Node_type)),\r\n",
    "    ('move', int64),\r\n",
    "    ('children', int64[:]),\r\n",
    "\r\n",
    "    ('N', int64),\r\n",
    "    ('Q', int64),\r\n",
    "    ('N_rave', int64),\r\n",
    "    ('Q_rave', int64),\r\n",
    "\r\n",
    ")\r\n",
    "\r\n",
    "\r\n",
    "@jitclass(spec)\r\n",
    "class Node:\r\n",
    "    def __init__(self, parent, move):\r\n",
    "        self.parent = parent\r\n",
    "        self.move = move\r\n",
    "        self.children = np.zeros(0, dtype=np.int64)\r\n",
    "\r\n",
    "        self.N = 0\r\n",
    "        self.Q = 0\r\n",
    "        self.N_rave = 0\r\n",
    "        self.Q_rave = 0\r\n",
    "\r\n",
    "    def value(self):\r\n",
    "        if self.N == 0: return float64(1000)\r\n",
    "\r\n",
    "        rave_weight = max(0, 1 - (self.N/300))\r\n",
    "        UCT_value = self.Q/self.N + 0.5 * sqrt(2 * log(self.parent.N/self.N))\r\n",
    "        if self.N_rave != 0: rave_value = self.Q_rave/self.N_rave\r\n",
    "        else: rave_value = 0\r\n",
    "        value = (1 - rave_weight)*UCT_value + rave_weight*rave_value\r\n",
    "        \r\n",
    "        return float64(value)\r\n",
    "\r\n",
    "    def set_children(self, new_children):\r\n",
    "        self.children = np.append(self.children, new_children)\r\n",
    "\r\n",
    "    def get_N(self):\r\n",
    "        return self.N\r\n",
    "\r\n",
    "    def get_children(self):\r\n",
    "        return self.children\r\n",
    "\r\n",
    "    def get_move(self):\r\n",
    "        return self.move\r\n",
    "    \r\n",
    "    def get_parent(self):\r\n",
    "        return self.parent\r\n",
    "\r\n",
    "    def addon_rave(self, q, n):\r\n",
    "        self.Q_rave += q\r\n",
    "        self.N_rave += n\r\n",
    "\r\n",
    "    def addon_mcts(self, q, n):\r\n",
    "        self.Q += q\r\n",
    "        self.N += n\r\n",
    "    \r\n",
    "    def get_stats(self):\r\n",
    "        print(f'N:{self.N}, Q:{self.Q}, Q_r:{self.Q_rave}, N_r:{self.N_rave}, M:{self.move}')\r\n",
    "\r\n",
    "\r\n",
    "Node_type.define(Node.class_type.instance_type)\r\n"
   ],
   "outputs": [],
   "metadata": {}
  },
  {
   "cell_type": "code",
   "execution_count": 45,
   "source": [
    "#EXPAND\r\n",
    "@njit\r\n",
    "def expand(parent: Node, state, mem, mem_address):\r\n",
    "    if state.winner() != 0:\r\n",
    "        return (0, mem_address)\r\n",
    "\r\n",
    "    possible_moves = state.possible_moves()\r\n",
    "    children = np.zeros_like(possible_moves)\r\n",
    "        \r\n",
    "    for index, move in enumerate(possible_moves):\r\n",
    "        child_node = Node(parent, move)\r\n",
    "        mem_address += 1\r\n",
    "        mem[mem_address] = child_node\r\n",
    "        children[index] = mem_address\r\n",
    "\r\n",
    "    parent.set_children(children)\r\n",
    "    return (1, mem_address)\r\n"
   ],
   "outputs": [],
   "metadata": {}
  },
  {
   "cell_type": "code",
   "execution_count": 46,
   "source": [
    "#lead node\r\n",
    "@njit\r\n",
    "def leaf_node(root_node : Node, root_state, mem, mem_addrs):\r\n",
    "    \r\n",
    "    node = root_node\r\n",
    "    state = root_state\r\n",
    "    \r\n",
    "    while node.get_children().size != 0:\r\n",
    "        benchmark = float64(-1000)\r\n",
    "        for child_mem_addrs in node.get_children():\r\n",
    "            child = mem[child_mem_addrs]\r\n",
    "            value_of_child = child.value()\r\n",
    "            if value_of_child > benchmark:\r\n",
    "                selected_node = child\r\n",
    "                benchmark = value_of_child\r\n",
    "        node = selected_node\r\n",
    "        move = node.get_move()\r\n",
    "        state.step(move)\r\n",
    "\r\n",
    "\r\n",
    "        if node.get_N() == 0:\r\n",
    "\r\n",
    "            return (node, state, mem_addrs)\r\n",
    "\r\n",
    "    bool_expand, mem_addrs_new = expand(node, state,mem, mem_addrs)\r\n",
    "    if bool_expand:\r\n",
    "        children_addrs = node.get_children()\r\n",
    "        child_index = randint(0, children_addrs.size-1)\r\n",
    "        child_addrs = children_addrs[child_index]\r\n",
    "        node = mem[child_addrs]\r\n",
    "        state.step(node.get_move())\r\n",
    "\r\n",
    "    return (node, state, mem_addrs_new)\r\n"
   ],
   "outputs": [],
   "metadata": {}
  },
  {
   "cell_type": "code",
   "execution_count": 47,
   "source": [
    "#rollout\r\n",
    "@njit\r\n",
    "def rollout(state):\r\n",
    "    moves = state.possible_moves()\r\n",
    "    while state.winner() != 0:\r\n",
    "        move_index = randint(0, moves.size-1)\r\n",
    "        move = moves[move_index]\r\n",
    "        state.step(move)\r\n",
    "        moves = np.delete(moves, move_index)\r\n",
    "\r\n",
    "    blk_rave_pieces = np.zeros(0, dtype=np.int64)\r\n",
    "    wht_rave_pieces = np.zeros(0, dtype=np.int64)\r\n",
    "\r\n",
    "    board = state.get_board()\r\n",
    "    blk_rave_pieces = np.append(blk_rave_pieces,np.where(board == 1)[0] )\r\n",
    "    wht_rave_pieces = np.append(wht_rave_pieces,np.where(board == -1)[0] )\r\n",
    "\r\n",
    "    return (state.winner(), blk_rave_pieces, wht_rave_pieces)\r\n"
   ],
   "outputs": [],
   "metadata": {}
  },
  {
   "cell_type": "code",
   "execution_count": 48,
   "source": [
    "#BACKUP\r\n",
    "@njit\r\n",
    "def backup(outcome, turn, node, blk_rave_pieces, wht_rave_pieces, mem ):\r\n",
    "    \r\n",
    "    if outcome == turn:\r\n",
    "        reward = -1\r\n",
    "    else:\r\n",
    "        reward = 1\r\n",
    "        \r\n",
    "    while node is not None:\r\n",
    "        if turn == 1:\r\n",
    "            for child_addrs in node.get_children():\r\n",
    "                child  = mem[child_addrs]\r\n",
    "                child_move = child.get_move()\r\n",
    "                if child_move in blk_rave_pieces:\r\n",
    "                    child.addon_rave(-reward, 1)\r\n",
    "        else:\r\n",
    "            for child_addrs in node.get_children():\r\n",
    "                child  = mem[child_addrs]\r\n",
    "                child_move = child.get_move()\r\n",
    "                if child_move in wht_rave_pieces:\r\n",
    "                    child.addon_rave(-reward, 1)\r\n",
    "                    \r\n",
    "        node.addon_mcts(reward, 1)\r\n",
    "\r\n",
    "        turn *= -1\r\n",
    "        reward *= -1\r\n",
    "        node = node.get_parent()"
   ],
   "outputs": [],
   "metadata": {}
  },
  {
   "cell_type": "code",
   "execution_count": 49,
   "source": [
    "#fetch_best_move\r\n",
    "@njit\r\n",
    "def fetch_best_move(state, limit):\r\n",
    "    memory = {}\r\n",
    "    memory_address = 0\r\n",
    "    \r\n",
    "    root_state = state.copy()\r\n",
    "    root_node = Node(None, 1000)\r\n",
    "    memory[memory_address] = root_node\r\n",
    "    \r\n",
    "    num_simulation = 0\r\n",
    "    \r\n",
    "    while num_simulation < limit:\r\n",
    "        state_copy = root_state.copy()\r\n",
    "        \r\n",
    "        node, new_state, memory_address = leaf_node(root_node,state_copy,memory, memory_address)\r\n",
    "        turn = new_state.get_to_play()\r\n",
    "        winner, blk_rave_pieces, wht_rave_pieces = rollout(new_state)\r\n",
    "        \r\n",
    "        backup(winner, turn, node, blk_rave_pieces, wht_rave_pieces, memory)\r\n",
    "        \r\n",
    "        num_simulation +=1\r\n",
    "        \r\n",
    "    i  = 0\r\n",
    "    while i<36:\r\n",
    "        n = memory[i]\r\n",
    "        i +=1\r\n",
    "        memory[i].get_stats()\r\n",
    "\r\n",
    "    "
   ],
   "outputs": [],
   "metadata": {}
  },
  {
   "cell_type": "code",
   "execution_count": 50,
   "source": [
    "#SETTING UP EMPTY BOARD\r\n",
    "parent_type = (types.int64, types.int64)\r\n",
    "rank_type = (types.int64, types.int64)\r\n",
    "groups_type = (types.int64, types.int64[:])\r\n",
    "size = 6\r\n",
    "\r\n",
    "brd = np.zeros(size**2, dtype=np.int64)\r\n",
    "to_play = 1\r\n",
    "EDGE_START = 1000\r\n",
    "EDGE_FINISH = -1000\r\n",
    "blk_parent = typed.Dict.empty(*parent_type)\r\n",
    "blk_rank = typed.Dict.empty(*rank_type)\r\n",
    "blk_groups = typed.Dict.empty(*groups_type)\r\n",
    "wht_parent = typed.Dict.empty(*parent_type)\r\n",
    "wht_rank = typed.Dict.empty(*rank_type)\r\n",
    "wht_groups = typed.Dict.empty(*groups_type)\r\n",
    "\r\n",
    "\r\n",
    "board = HexState(size, brd, to_play, EDGE_START, EDGE_FINISH, blk_parent, blk_rank, blk_groups, wht_parent, wht_rank, wht_groups)"
   ],
   "outputs": [],
   "metadata": {}
  },
  {
   "cell_type": "code",
   "execution_count": 54,
   "source": [
    "fetch_best_move(board, 100000)"
   ],
   "outputs": [
    {
     "output_type": "stream",
     "name": "stdout",
     "text": [
      "N:33715, Q:-423, Q_r:1126, N_r:50332, M:0\n",
      "N:31817, Q:-435, Q_r:2648, N_r:49294, M:1\n",
      "N:33708, Q:-426, Q_r:3181, N_r:53019, M:2\n",
      "N:23, Q:-21, Q_r:7648, N_r:27818, M:3\n",
      "N:23, Q:-21, Q_r:4875, N_r:48667, M:4\n",
      "N:23, Q:-21, Q_r:969, N_r:2553, M:5\n",
      "N:23, Q:-21, Q_r:1629, N_r:4913, M:6\n",
      "N:23, Q:-21, Q_r:690, N_r:3834, M:7\n",
      "N:23, Q:-21, Q_r:673, N_r:3829, M:8\n",
      "N:23, Q:-21, Q_r:675, N_r:3827, M:9\n",
      "N:23, Q:-21, Q_r:680, N_r:3832, M:10\n",
      "N:23, Q:-21, Q_r:668, N_r:3830, M:11\n",
      "N:23, Q:-21, Q_r:628, N_r:3774, M:12\n",
      "N:23, Q:-21, Q_r:603, N_r:3747, M:13\n",
      "N:23, Q:-21, Q_r:597, N_r:3747, M:14\n",
      "N:23, Q:-21, Q_r:582, N_r:3742, M:15\n",
      "N:23, Q:-21, Q_r:580, N_r:3720, M:16\n",
      "N:23, Q:-21, Q_r:576, N_r:3716, M:17\n",
      "N:23, Q:-21, Q_r:570, N_r:3714, M:18\n",
      "N:23, Q:-21, Q_r:572, N_r:3714, M:19\n",
      "N:24, Q:-22, Q_r:534, N_r:3672, M:20\n",
      "N:23, Q:-21, Q_r:466, N_r:3608, M:21\n",
      "N:23, Q:-21, Q_r:407, N_r:3551, M:22\n",
      "N:23, Q:-21, Q_r:338, N_r:3480, M:23\n",
      "N:23, Q:-21, Q_r:189, N_r:3333, M:24\n",
      "N:23, Q:-21, Q_r:-231, N_r:2907, M:25\n",
      "N:23, Q:-21, Q_r:-717, N_r:2419, M:26\n",
      "N:23, Q:-21, Q_r:-1001, N_r:2131, M:27\n",
      "N:23, Q:-21, Q_r:-1387, N_r:1753, M:28\n",
      "N:23, Q:-21, Q_r:-1391, N_r:1745, M:29\n",
      "N:23, Q:-21, Q_r:-1407, N_r:1735, M:30\n",
      "N:23, Q:-21, Q_r:-1413, N_r:1729, M:31\n",
      "N:23, Q:-21, Q_r:-1422, N_r:1718, M:32\n",
      "N:23, Q:-21, Q_r:-1401, N_r:1727, M:33\n",
      "N:23, Q:-21, Q_r:-1375, N_r:1725, M:34\n",
      "N:23, Q:-21, Q_r:-1379, N_r:1721, M:35\n",
      "N:11413, Q:451, Q_r:1317, N_r:18071, M:1\n"
     ]
    }
   ],
   "metadata": {}
  },
  {
   "cell_type": "code",
   "execution_count": 27,
   "source": [
    "%time a = fetch_best_move(board, 100)"
   ],
   "outputs": [
    {
     "output_type": "stream",
     "name": "stdout",
     "text": [
      "-0.3200734158596588\n",
      "-0.3200734158596588\n",
      "-0.3200734158596588\n",
      "-0.3200734158596588\n",
      "-0.3200734158596588\n",
      "Wall time: 3.99 ms\n"
     ]
    }
   ],
   "metadata": {}
  },
  {
   "cell_type": "code",
   "execution_count": 26,
   "source": [
    "%time a = fetch_best_move(board, 100)"
   ],
   "outputs": [
    {
     "output_type": "stream",
     "name": "stdout",
     "text": [
      "-0.32009218931682176\n",
      "-0.32009218931682176\n",
      "-0.32009218931682176\n",
      "-0.32009218931682176\n",
      "-0.32009218931682176\n",
      "Wall time: 2.99 ms\n"
     ]
    }
   ],
   "metadata": {}
  },
  {
   "cell_type": "code",
   "execution_count": null,
   "source": [],
   "outputs": [],
   "metadata": {}
  }
 ],
 "metadata": {
  "kernelspec": {
   "name": "python3",
   "display_name": "Python 3.7.4 64-bit ('venv': venv)"
  },
  "language_info": {
   "codemirror_mode": {
    "name": "ipython",
    "version": 3
   },
   "file_extension": ".py",
   "mimetype": "text/x-python",
   "name": "python",
   "nbconvert_exporter": "python",
   "pygments_lexer": "ipython3",
   "version": "3.7.4"
  },
  "interpreter": {
   "hash": "4c9023dc152695567e9bd5f124bc36148855ee458e88d27b25e9076bbda1a7ea"
  }
 },
 "nbformat": 4,
 "nbformat_minor": 2
}